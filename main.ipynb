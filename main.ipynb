{
  "nbformat": 4,
  "nbformat_minor": 0,
  "metadata": {
    "colab": {
      "provenance": []
    },
    "kernelspec": {
      "name": "python3",
      "display_name": "Python 3"
    },
    "language_info": {
      "name": "python"
    }
  },
  "cells": [
    {
      "cell_type": "code",
      "source": [
        "# Download data\n",
        "!gdown --fuzzy 'https://drive.google.com/drive/folders/1SM9bsMRcPZ1BLfhsQWxa841cGhZX1Bc-' -O data --folder\n",
        "\n",
        "\n",
        "!pip install datasets\n",
        "!pip install torch\n",
        "!pip install scikit-learn"
      ],
      "metadata": {
        "id": "27Qj9qCvZbZ_"
      },
      "execution_count": null,
      "outputs": []
    },
    {
      "cell_type": "markdown",
      "source": [
        "### **TASK A:** Emotion Classification"
      ],
      "metadata": {
        "id": "EFt6QvCrnsCd"
      }
    },
    {
      "cell_type": "code",
      "source": [
        "# TASK A\n",
        "\n",
        "%run data/A/emotions_train.py\n",
        "main(['data/Datasets/goemotions_1_small.csv'],5) # Arguments are dataset and number of labels"
      ],
      "metadata": {
        "id": "Z6d88g2mjGwb"
      },
      "execution_count": null,
      "outputs": []
    },
    {
      "cell_type": "markdown",
      "source": [
        "### **TASK B:** Hate Speech Classification"
      ],
      "metadata": {
        "id": "dUPzYar-oAam"
      }
    },
    {
      "cell_type": "code",
      "source": [
        "# Task B\n",
        "\n",
        "%run 'data/B/hate_speech_train.py'\n",
        "main('data/Datasets/labeled_data.csv',3)\n",
        "\n",
        "\n"
      ],
      "metadata": {
        "id": "SYIZqKkOpKDk"
      },
      "execution_count": null,
      "outputs": []
    }
  ]
}